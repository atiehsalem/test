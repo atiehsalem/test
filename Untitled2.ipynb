{
  "nbformat": 4,
  "nbformat_minor": 0,
  "metadata": {
    "colab": {
      "provenance": [],
      "authorship_tag": "ABX9TyO3+2F9/56hPGXXBcDu39YN",
      "include_colab_link": true
    },
    "kernelspec": {
      "name": "python3",
      "display_name": "Python 3"
    },
    "language_info": {
      "name": "python"
    }
  },
  "cells": [
    {
      "cell_type": "markdown",
      "metadata": {
        "id": "view-in-github",
        "colab_type": "text"
      },
      "source": [
        "<a href=\"https://colab.research.google.com/github/atiehsalem/test/blob/main/Untitled2.ipynb\" target=\"_parent\"><img src=\"https://colab.research.google.com/assets/colab-badge.svg\" alt=\"Open In Colab\"/></a>"
      ]
    },
    {
      "cell_type": "code",
      "execution_count": null,
      "metadata": {
        "id": "uwT1XNmvYUhg"
      },
      "outputs": [],
      "source": [
        "mport pyodbc\n",
        "conn = pyodbc.connect(r'Driver={Microsoft Access Driver (*.mdb, *.accdb)};DBQ=C:\\Users\\FC book\\Desktop\\sector_tavaghofDB.accdb;')\n",
        "print(\"ok\")\n",
        "cursor = conn.cursor()\n",
        "cursor.execute('select * from tv14010804 ')\n",
        "for row in cursor.fetchall():\n",
        "    print (row)"
      ]
    }
  ]
}